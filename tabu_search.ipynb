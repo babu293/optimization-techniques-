{
  "nbformat": 4,
  "nbformat_minor": 0,
  "metadata": {
    "colab": {
      "provenance": [],
      "authorship_tag": "ABX9TyO6WbgDJNcA6FJy0enGQx/9",
      "include_colab_link": true
    },
    "kernelspec": {
      "name": "python3",
      "display_name": "Python 3"
    },
    "language_info": {
      "name": "python"
    },
    "accelerator": "TPU"
  },
  "cells": [
    {
      "cell_type": "markdown",
      "metadata": {
        "id": "view-in-github",
        "colab_type": "text"
      },
      "source": [
        "<a href=\"https://colab.research.google.com/github/babu293/optimization-techniques-/blob/main/tabu_search.ipynb\" target=\"_parent\"><img src=\"https://colab.research.google.com/assets/colab-badge.svg\" alt=\"Open In Colab\"/></a>"
      ]
    },
    {
      "cell_type": "code",
      "source": [
        "import random\n",
        "import copy"
      ],
      "metadata": {
        "id": "jXvKMir2NTmO"
      },
      "execution_count": 16,
      "outputs": []
    },
    {
      "cell_type": "code",
      "source": [
        "# Define the objective function\n",
        "def objective_function(solution):\n",
        "    return sum(solution) + 0.01 * sum([(i + 1) * x for i, x in enumerate(solution)])"
      ],
      "metadata": {
        "id": "FPvHD81yNSNu"
      },
      "execution_count": 13,
      "outputs": []
    },
    {
      "cell_type": "code",
      "execution_count": 10,
      "metadata": {
        "id": "jvSzO4OgM-Rj"
      },
      "outputs": [],
      "source": [
        "# Parameters\n",
        "num_iterations = 100\n",
        "tabu_length = 189"
      ]
    },
    {
      "cell_type": "code",
      "source": [
        "# Define the tabu search function\n",
        "def tabu_search(initial_solution, tabu_size, max_iterations):\n",
        "    current_solution = initial_solution\n",
        "    best_solution = current_solution\n",
        "    tabu_list = []\n",
        "    iteration = 1\n",
        "\n",
        "    while iteration <= max_iterations:\n",
        "        neighbors = []\n",
        "        for i in range(len(current_solution)):\n",
        "            for j in range(i + 1, len(current_solution)):\n",
        "                neighbor = copy.deepcopy(current_solution)\n",
        "                neighbor[i], neighbor[j] = neighbor[j], neighbor[i]\n",
        "                neighbors.append((neighbor, i, j))\n",
        "\n",
        "        neighbors = [(neighbor, i, j) for neighbor, i, j in neighbors if neighbor not in tabu_list]\n",
        "\n",
        "        if not neighbors:\n",
        "            break\n",
        "\n",
        "        neighbor_solutions, i, j = max(neighbors, key=lambda x: objective_function(x[0]))\n",
        "        tabu_list.append(neighbor_solutions)\n",
        "        if len(tabu_list) > tabu_size:\n",
        "            tabu_list.pop(0)\n",
        "\n",
        "        current_solution = neighbor_solutions\n",
        "\n",
        "        if objective_function(current_solution) < objective_function(best_solution):\n",
        "            best_solution = current_solution\n",
        "\n",
        "        print(f\"Iteration {iteration}: Best_objvalue: {objective_function(best_solution)}\")\n",
        "        iteration += 1\n",
        "\n",
        "    print(\"Tabu search completed\")\n",
        "    print(f\"Performed iterations: {iteration - 1}\")\n",
        "    print(f\"Best found Solution: {best_solution} , Objvalue: {objective_function(best_solution)}\")"
      ],
      "metadata": {
        "id": "EqeO3YmnOX5w"
      },
      "execution_count": 14,
      "outputs": []
    },
    {
      "cell_type": "code",
      "source": [
        "# Initialize parameters\n",
        "initial_solution = [1, 2, 3, 4, 5, 6, 7, 8, 9, 10]\n",
        "tabu_size = 10\n",
        "max_iterations = 110\n",
        "\n",
        "# Run tabu search\n",
        "print(\"Starting Tabu search\")\n",
        "tabu_search(initial_solution, tabu_size, max_iterations)"
      ],
      "metadata": {
        "colab": {
          "base_uri": "https://localhost:8080/"
        },
        "id": "1muWHuluVPpb",
        "outputId": "8821c6c9-e9d9-4ec4-dbc6-bc4f3c4f1ae3"
      },
      "execution_count": 19,
      "outputs": [
        {
          "output_type": "stream",
          "name": "stdout",
          "text": [
            "Starting Tabu search\n",
            "Iteration 1: Best_objvalue: 58.84\n",
            "Iteration 2: Best_objvalue: 58.84\n",
            "Iteration 3: Best_objvalue: 58.84\n",
            "Iteration 4: Best_objvalue: 58.83\n",
            "Iteration 5: Best_objvalue: 58.83\n",
            "Iteration 6: Best_objvalue: 58.83\n",
            "Iteration 7: Best_objvalue: 58.82\n",
            "Iteration 8: Best_objvalue: 58.82\n",
            "Iteration 9: Best_objvalue: 58.82\n",
            "Iteration 10: Best_objvalue: 58.82\n",
            "Iteration 11: Best_objvalue: 58.82\n",
            "Iteration 12: Best_objvalue: 58.82\n",
            "Iteration 13: Best_objvalue: 58.82\n",
            "Iteration 14: Best_objvalue: 58.82\n",
            "Iteration 15: Best_objvalue: 58.82\n",
            "Iteration 16: Best_objvalue: 58.82\n",
            "Iteration 17: Best_objvalue: 58.82\n",
            "Iteration 18: Best_objvalue: 58.82\n",
            "Iteration 19: Best_objvalue: 58.82\n",
            "Iteration 20: Best_objvalue: 58.82\n",
            "Iteration 21: Best_objvalue: 58.82\n",
            "Iteration 22: Best_objvalue: 58.82\n",
            "Iteration 23: Best_objvalue: 58.82\n",
            "Iteration 24: Best_objvalue: 58.82\n",
            "Iteration 25: Best_objvalue: 58.82\n",
            "Iteration 26: Best_objvalue: 58.82\n",
            "Iteration 27: Best_objvalue: 58.82\n",
            "Iteration 28: Best_objvalue: 58.82\n",
            "Iteration 29: Best_objvalue: 58.82\n",
            "Iteration 30: Best_objvalue: 58.82\n",
            "Iteration 31: Best_objvalue: 58.82\n",
            "Iteration 32: Best_objvalue: 58.82\n",
            "Iteration 33: Best_objvalue: 58.82\n",
            "Iteration 34: Best_objvalue: 58.82\n",
            "Iteration 35: Best_objvalue: 58.82\n",
            "Iteration 36: Best_objvalue: 58.82\n",
            "Iteration 37: Best_objvalue: 58.82\n",
            "Iteration 38: Best_objvalue: 58.82\n",
            "Iteration 39: Best_objvalue: 58.82\n",
            "Iteration 40: Best_objvalue: 58.82\n",
            "Iteration 41: Best_objvalue: 58.82\n",
            "Iteration 42: Best_objvalue: 58.82\n",
            "Iteration 43: Best_objvalue: 58.82\n",
            "Iteration 44: Best_objvalue: 58.82\n",
            "Iteration 45: Best_objvalue: 58.82\n",
            "Iteration 46: Best_objvalue: 58.82\n",
            "Iteration 47: Best_objvalue: 58.82\n",
            "Iteration 48: Best_objvalue: 58.82\n",
            "Iteration 49: Best_objvalue: 58.82\n",
            "Iteration 50: Best_objvalue: 58.82\n",
            "Iteration 51: Best_objvalue: 58.82\n",
            "Iteration 52: Best_objvalue: 58.82\n",
            "Iteration 53: Best_objvalue: 58.82\n",
            "Iteration 54: Best_objvalue: 58.82\n",
            "Iteration 55: Best_objvalue: 58.82\n",
            "Iteration 56: Best_objvalue: 58.82\n",
            "Iteration 57: Best_objvalue: 58.82\n",
            "Iteration 58: Best_objvalue: 58.82\n",
            "Iteration 59: Best_objvalue: 58.82\n",
            "Iteration 60: Best_objvalue: 58.82\n",
            "Iteration 61: Best_objvalue: 58.82\n",
            "Iteration 62: Best_objvalue: 58.82\n",
            "Iteration 63: Best_objvalue: 58.82\n",
            "Iteration 64: Best_objvalue: 58.82\n",
            "Iteration 65: Best_objvalue: 58.82\n",
            "Iteration 66: Best_objvalue: 58.82\n",
            "Iteration 67: Best_objvalue: 58.82\n",
            "Iteration 68: Best_objvalue: 58.82\n",
            "Iteration 69: Best_objvalue: 58.82\n",
            "Iteration 70: Best_objvalue: 58.82\n",
            "Iteration 71: Best_objvalue: 58.82\n",
            "Iteration 72: Best_objvalue: 58.82\n",
            "Iteration 73: Best_objvalue: 58.82\n",
            "Iteration 74: Best_objvalue: 58.82\n",
            "Iteration 75: Best_objvalue: 58.82\n",
            "Iteration 76: Best_objvalue: 58.82\n",
            "Iteration 77: Best_objvalue: 58.82\n",
            "Iteration 78: Best_objvalue: 58.82\n",
            "Iteration 79: Best_objvalue: 58.82\n",
            "Iteration 80: Best_objvalue: 58.82\n",
            "Iteration 81: Best_objvalue: 58.82\n",
            "Iteration 82: Best_objvalue: 58.82\n",
            "Iteration 83: Best_objvalue: 58.82\n",
            "Iteration 84: Best_objvalue: 58.82\n",
            "Iteration 85: Best_objvalue: 58.82\n",
            "Iteration 86: Best_objvalue: 58.82\n",
            "Iteration 87: Best_objvalue: 58.82\n",
            "Iteration 88: Best_objvalue: 58.82\n",
            "Iteration 89: Best_objvalue: 58.82\n",
            "Iteration 90: Best_objvalue: 58.82\n",
            "Iteration 91: Best_objvalue: 58.82\n",
            "Iteration 92: Best_objvalue: 58.82\n",
            "Iteration 93: Best_objvalue: 58.82\n",
            "Iteration 94: Best_objvalue: 58.82\n",
            "Iteration 95: Best_objvalue: 58.82\n",
            "Iteration 96: Best_objvalue: 58.82\n",
            "Iteration 97: Best_objvalue: 58.82\n",
            "Iteration 98: Best_objvalue: 58.82\n",
            "Iteration 99: Best_objvalue: 58.82\n",
            "Iteration 100: Best_objvalue: 58.82\n",
            "Iteration 101: Best_objvalue: 58.82\n",
            "Iteration 102: Best_objvalue: 58.82\n",
            "Iteration 103: Best_objvalue: 58.82\n",
            "Iteration 104: Best_objvalue: 58.82\n",
            "Iteration 105: Best_objvalue: 58.82\n",
            "Iteration 106: Best_objvalue: 58.82\n",
            "Iteration 107: Best_objvalue: 58.82\n",
            "Iteration 108: Best_objvalue: 58.82\n",
            "Iteration 109: Best_objvalue: 58.82\n",
            "Iteration 110: Best_objvalue: 58.82\n",
            "Tabu search completed\n",
            "Performed iterations: 110\n",
            "Best found Solution: [2, 1, 3, 5, 4, 7, 6, 8, 9, 10] , Objvalue: 58.82\n"
          ]
        }
      ]
    }
  ]
}