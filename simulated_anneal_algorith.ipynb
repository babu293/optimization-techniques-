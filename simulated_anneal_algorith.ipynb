{
  "nbformat": 4,
  "nbformat_minor": 0,
  "metadata": {
    "colab": {
      "provenance": []
    },
    "kernelspec": {
      "name": "python3",
      "display_name": "Python 3"
    },
    "language_info": {
      "name": "python"
    }
  },
  "cells": [
    {
      "cell_type": "code",
      "execution_count": 1,
      "metadata": {
        "id": "Mi9x84wJJrft"
      },
      "outputs": [],
      "source": [
        "import math\n",
        "import random"
      ]
    },
    {
      "cell_type": "code",
      "source": [
        "def objective_function(x):\n",
        "    \"\"\"The objective function to be minimized.\n",
        "    Modify this function according to your specific problem.\n",
        "    \"\"\"\n",
        "    return math.sin(x) + 0.5 * math.sin(3 * x)"
      ],
      "metadata": {
        "id": "2Pr_bNXfJwHy"
      },
      "execution_count": 2,
      "outputs": []
    },
    {
      "cell_type": "code",
      "source": [
        "def simulated_annealing(initial_solution, temperature, cooling_rate, num_iterations):\n",
        "    current_solution = initial_solution\n",
        "    best_solution = current_solution\n",
        "\n",
        "    for _ in range(num_iterations):\n",
        "        temperature *= cooling_rate\n",
        "\n",
        "        # Generate a new candidate solution by perturbing the current solution\n",
        "        candidate_solution = current_solution + random.uniform(-1, 1)\n",
        "\n",
        "        # Calculate the objective function values for the current and candidate solutions\n",
        "        current_cost = objective_function(current_solution)\n",
        "        candidate_cost = objective_function(candidate_solution)\n",
        "\n",
        "        # Determine whether to accept the candidate solution or not\n",
        "        if candidate_cost < current_cost:\n",
        "            current_solution = candidate_solution\n",
        "            if candidate_cost < objective_function(best_solution):\n",
        "                best_solution = candidate_solution\n",
        "        else:\n",
        "            acceptance_probability = math.exp(-(candidate_cost - current_cost) / temperature)\n",
        "            if random.random() < acceptance_probability:\n",
        "                current_solution = candidate_solution\n",
        "    return best_solution"
      ],
      "metadata": {
        "id": "IuZFxV0IJ82i"
      },
      "execution_count": 13,
      "outputs": []
    },
    {
      "cell_type": "code",
      "source": [
        "# Example usage\n",
        "initial_solution = 0.0  # Initial solution\n",
        "temperature = 100.0  # Initial temperature\n",
        "cooling_rate = 0.95  # Cooling rate\n",
        "num_iterations = 1000  # Number of iterations\n",
        "\n",
        "best_solution = simulated_annealing(initial_solution, temperature, cooling_rate, num_iterations)\n",
        "best_cost = objective_function(best_solution)\n",
        "\n",
        "print(\"Best Solution:\", best_solution)\n",
        "print(\"Best Cost:\", best_cost)"
      ],
      "metadata": {
        "colab": {
          "base_uri": "https://localhost:8080/"
        },
        "id": "UxPbTAMPKGcq",
        "outputId": "59413453-f25c-484f-bc73-506622a75911"
      },
      "execution_count": 14,
      "outputs": [
        {
          "output_type": "stream",
          "name": "stdout",
          "text": [
            "Best Solution: -8.722960900713712\n",
            "Best Cost: -1.0758286611247787\n"
          ]
        }
      ]
    }
  ]
}