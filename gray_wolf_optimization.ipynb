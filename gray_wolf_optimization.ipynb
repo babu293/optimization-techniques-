{
  "nbformat": 4,
  "nbformat_minor": 0,
  "metadata": {
    "colab": {
      "provenance": [],
      "authorship_tag": "ABX9TyMKbPrKbMNpdlCYtlZEBabt",
      "include_colab_link": true
    },
    "kernelspec": {
      "name": "python3",
      "display_name": "Python 3"
    },
    "language_info": {
      "name": "python"
    }
  },
  "cells": [
    {
      "cell_type": "markdown",
      "metadata": {
        "id": "view-in-github",
        "colab_type": "text"
      },
      "source": [
        "<a href=\"https://colab.research.google.com/github/babu293/optimization-techniques-/blob/main/gray_wolf_optimization.ipynb\" target=\"_parent\"><img src=\"https://colab.research.google.com/assets/colab-badge.svg\" alt=\"Open In Colab\"/></a>"
      ]
    },
    {
      "cell_type": "code",
      "execution_count": 1,
      "metadata": {
        "id": "wOlFrbZrGzkH"
      },
      "outputs": [],
      "source": [
        "import numpy as np"
      ]
    },
    {
      "cell_type": "code",
      "source": [
        "# Define the optimization problem\n",
        "def objective_function(x):\n",
        "    return sum(x**2)"
      ],
      "metadata": {
        "id": "wr-lCS97G-4s"
      },
      "execution_count": 2,
      "outputs": []
    },
    {
      "cell_type": "code",
      "source": [
        "# GWO parameters\n",
        "num_wolves = 5\n",
        "num_dimensions = 10\n",
        "max_iterations = 50\n",
        "a = 2\n",
        "alpha = 2\n",
        "\n",
        "# Initialize the wolf population\n",
        "wolves_positions = np.random.uniform(-10, 10, size=(num_wolves, num_dimensions))\n",
        "\n",
        "# Initialize alpha, beta, and delta positions\n",
        "alpha_position = None\n",
        "beta_position = None\n",
        "delta_position = None"
      ],
      "metadata": {
        "id": "632FoOBFHBND"
      },
      "execution_count": 5,
      "outputs": []
    },
    {
      "cell_type": "code",
      "source": [
        "# Main loop\n",
        "for iteration in range(max_iterations):\n",
        "    for i in range(num_wolves):\n",
        "        # Evaluate the objective function\n",
        "        fitness = objective_function(wolves_positions[i])\n",
        "\n",
        "        if alpha_position is None or fitness < objective_function(alpha_position):\n",
        "            alpha_position = wolves_positions[i].copy()\n",
        "\n",
        "        if (beta_position is None or\n",
        "            (fitness >= objective_function(alpha_position) and\n",
        "             fitness < objective_function(beta_position))):\n",
        "            beta_position = wolves_positions[i].copy()\n",
        "\n",
        "        if (delta_position is None or\n",
        "            (fitness >= objective_function(beta_position) and\n",
        "             fitness < objective_function(delta_position))):\n",
        "            delta_position = wolves_positions[i].copy()\n",
        "\n",
        "    # Update wolf positions\n",
        "    a = 2 - iteration * (2 / max_iterations)  # Decreasing linearly from 2 to 0\n",
        "    for i in range(num_wolves):\n",
        "        r1 = np.random.random(size=num_dimensions)\n",
        "        r2 = np.random.random(size=num_dimensions)\n",
        "        A1 = 2 * a * r1 - a\n",
        "        C1 = 2 * r2\n",
        "\n",
        "        D_alpha = np.abs(C1 * alpha_position - wolves_positions[i])\n",
        "        X1 = alpha_position - A1 * D_alpha\n",
        "\n",
        "        r1 = np.random.random(size=num_dimensions)\n",
        "        r2 = np.random.random(size=num_dimensions)\n",
        "        A2 = 2 * a * r1 - a\n",
        "        C2 = 2 * r2\n",
        "\n",
        "        D_beta = np.abs(C2 * beta_position - wolves_positions[i])\n",
        "        X2 = beta_position - A2 * D_beta\n",
        "\n",
        "        r1 = np.random.random(size=num_dimensions)\n",
        "        r2 = np.random.random(size=num_dimensions)\n",
        "        A3 = 2 * a * r1 - a\n",
        "        C3 = 2 * r2\n",
        "\n",
        "        D_delta = np.abs(C3 * delta_position - wolves_positions[i])\n",
        "        X3 = delta_position - A3 * D_delta\n",
        "\n",
        "        new_position = (X1 + X2 + X3) / 3.0\n",
        "\n",
        "        # Boundary check\n",
        "        new_position = np.clip(new_position, -10, 10)\n",
        "\n",
        "        wolves_positions[i] = new_position\n",
        "\n",
        "    print(f\"Iteration {iteration+1}: Best Fitness = {objective_function(alpha_position)}\")"
      ],
      "metadata": {
        "colab": {
          "base_uri": "https://localhost:8080/"
        },
        "id": "VIIJiDrbHGMD",
        "outputId": "dd8fd393-ef86-4ed1-8486-88c9f5d53fb4"
      },
      "execution_count": 6,
      "outputs": [
        {
          "output_type": "stream",
          "name": "stdout",
          "text": [
            "Iteration 1: Best Fitness = 133.8257495958564\n",
            "Iteration 2: Best Fitness = 133.8257495958564\n",
            "Iteration 3: Best Fitness = 87.40362090289058\n",
            "Iteration 4: Best Fitness = 84.12200825085\n",
            "Iteration 5: Best Fitness = 65.64831779900086\n",
            "Iteration 6: Best Fitness = 65.54643715513501\n",
            "Iteration 7: Best Fitness = 65.54643715513501\n",
            "Iteration 8: Best Fitness = 34.77639551956181\n",
            "Iteration 9: Best Fitness = 34.23886027300213\n",
            "Iteration 10: Best Fitness = 20.37245591570774\n",
            "Iteration 11: Best Fitness = 15.691525631245952\n",
            "Iteration 12: Best Fitness = 5.668845028060426\n",
            "Iteration 13: Best Fitness = 5.668845028060426\n",
            "Iteration 14: Best Fitness = 4.089341540995976\n",
            "Iteration 15: Best Fitness = 4.0230630600743185\n",
            "Iteration 16: Best Fitness = 1.9945669392538126\n",
            "Iteration 17: Best Fitness = 1.9279660573805735\n",
            "Iteration 18: Best Fitness = 1.0361722906988098\n",
            "Iteration 19: Best Fitness = 0.7932979808918091\n",
            "Iteration 20: Best Fitness = 0.5557133640246084\n",
            "Iteration 21: Best Fitness = 0.3797827085710203\n",
            "Iteration 22: Best Fitness = 0.3308905004337934\n",
            "Iteration 23: Best Fitness = 0.23887071098095228\n",
            "Iteration 24: Best Fitness = 0.08138416703249748\n",
            "Iteration 25: Best Fitness = 0.06487236322244835\n",
            "Iteration 26: Best Fitness = 0.06258626800166023\n",
            "Iteration 27: Best Fitness = 0.04600682989685096\n",
            "Iteration 28: Best Fitness = 0.04600682989685096\n",
            "Iteration 29: Best Fitness = 0.025343906962179776\n",
            "Iteration 30: Best Fitness = 0.020172107000342936\n",
            "Iteration 31: Best Fitness = 0.01645034263575708\n",
            "Iteration 32: Best Fitness = 0.011678544572425453\n",
            "Iteration 33: Best Fitness = 0.010026471363284517\n",
            "Iteration 34: Best Fitness = 0.009115595665402551\n",
            "Iteration 35: Best Fitness = 0.007955955203806535\n",
            "Iteration 36: Best Fitness = 0.0068219753440868355\n",
            "Iteration 37: Best Fitness = 0.005779766212810831\n",
            "Iteration 38: Best Fitness = 0.005098390759709548\n",
            "Iteration 39: Best Fitness = 0.004737280598240653\n",
            "Iteration 40: Best Fitness = 0.004737280598240653\n",
            "Iteration 41: Best Fitness = 0.0038217159473116595\n",
            "Iteration 42: Best Fitness = 0.003491162072575522\n",
            "Iteration 43: Best Fitness = 0.0032682388040547405\n",
            "Iteration 44: Best Fitness = 0.003088279009788089\n",
            "Iteration 45: Best Fitness = 0.002745143906783673\n",
            "Iteration 46: Best Fitness = 0.002597957183510674\n",
            "Iteration 47: Best Fitness = 0.0025513845596542187\n",
            "Iteration 48: Best Fitness = 0.0024787406395962064\n",
            "Iteration 49: Best Fitness = 0.0024216903392171563\n",
            "Iteration 50: Best Fitness = 0.0023963757099633104\n"
          ]
        }
      ]
    },
    {
      "cell_type": "code",
      "source": [
        "print(\"Optimization finished!\")\n",
        "print(\"Best solution:\", alpha_position)\n",
        "print(\"Best fitness:\", objective_function(alpha_position))"
      ],
      "metadata": {
        "colab": {
          "base_uri": "https://localhost:8080/"
        },
        "id": "3jXF6JWfHi6U",
        "outputId": "78b90127-bdce-4ff7-fd8c-5ecb699026de"
      },
      "execution_count": 7,
      "outputs": [
        {
          "output_type": "stream",
          "name": "stdout",
          "text": [
            "Optimization finished!\n",
            "Best solution: [ 0.01696202 -0.00796976  0.01483382  0.01691113  0.01958167 -0.01910794\n",
            " -0.01505074  0.01846288  0.01038629  0.01073718]\n",
            "Best fitness: 0.0023963757099633104\n"
          ]
        }
      ]
    }
  ]
}