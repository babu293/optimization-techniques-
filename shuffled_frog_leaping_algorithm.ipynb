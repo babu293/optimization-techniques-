{
  "nbformat": 4,
  "nbformat_minor": 0,
  "metadata": {
    "colab": {
      "provenance": [],
      "gpuType": "T4",
      "authorship_tag": "ABX9TyPHQ5s11d6Zv3M8TY5I7ZyQ",
      "include_colab_link": true
    },
    "kernelspec": {
      "name": "python3",
      "display_name": "Python 3"
    },
    "language_info": {
      "name": "python"
    },
    "accelerator": "GPU"
  },
  "cells": [
    {
      "cell_type": "markdown",
      "metadata": {
        "id": "view-in-github",
        "colab_type": "text"
      },
      "source": [
        "<a href=\"https://colab.research.google.com/github/babu293/optimization-techniques-/blob/main/shuffled_frog_leaping_algorithm.ipynb\" target=\"_parent\"><img src=\"https://colab.research.google.com/assets/colab-badge.svg\" alt=\"Open In Colab\"/></a>"
      ]
    },
    {
      "cell_type": "code",
      "execution_count": 11,
      "metadata": {
        "colab": {
          "base_uri": "https://localhost:8080/"
        },
        "id": "XC9nU51-KbUV",
        "outputId": "488a165e-f720-4768-af74-150c4c7cb537"
      },
      "outputs": [
        {
          "output_type": "stream",
          "name": "stdout",
          "text": [
            "Iteration 10: Best Fitness = 69.8924\n",
            "Iteration 20: Best Fitness = 30.8022\n",
            "Iteration 30: Best Fitness = 11.3322\n",
            "Iteration 40: Best Fitness = 6.1983\n",
            "Iteration 50: Best Fitness = 5.3393\n",
            "Iteration 60: Best Fitness = 3.2916\n",
            "Iteration 70: Best Fitness = 1.9813\n",
            "Iteration 80: Best Fitness = 0.7573\n",
            "Iteration 90: Best Fitness = 0.3125\n",
            "Iteration 100: Best Fitness = 0.1744\n",
            "Iteration 110: Best Fitness = 0.0854\n",
            "Optimization finished!\n",
            "Best Solution: [-0.01341406 -0.01626404 -0.07074887  0.25859493 -0.10977819  0.13129829\n",
            "  0.01595907  0.15635259 -0.21915042 -0.10929841]\n",
            "Best Fitness: 0.08543091472705552\n"
          ]
        }
      ],
      "source": [
        "import numpy as np\n",
        "\n",
        "# Define the optimization problem's parameters\n",
        "num_frogs = 50  # Number of frogs\n",
        "num_dimensions = 10  # Number of dimensions in the problem\n",
        "num_iterations = 110  # Number of iterations\n",
        "\n",
        "# Define the bounds for each dimension of the problem\n",
        "lower_bound = -10\n",
        "upper_bound = 10\n",
        "\n",
        "# Define the fitness function to be optimized\n",
        "def fitness_function(solution):\n",
        "    # Example: Sphere function\n",
        "    return np.sum(solution ** 2)\n",
        "\n",
        "# Initialize the population of frogs\n",
        "population = np.random.uniform(lower_bound, upper_bound, size=(num_frogs, num_dimensions))\n",
        "\n",
        "# Main optimization loop\n",
        "for iteration in range(num_iterations):\n",
        "    # Evaluate fitness for each frog\n",
        "    fitness_values = np.array([fitness_function(frog) for frog in population])\n",
        "\n",
        "    # Sort frogs based on fitness\n",
        "    sorted_indices = np.argsort(fitness_values)\n",
        "    sorted_population = population[sorted_indices]\n",
        "\n",
        "    # Update the best frog\n",
        "    best_frog = sorted_population[0]\n",
        "    best_fitness = fitness_values[sorted_indices[0]]\n",
        "\n",
        "    # Perform the shuffled frog-leaping process\n",
        "    for i in range(num_frogs):\n",
        "        memeplex_size = num_frogs // 5  # Divide the population into memeplexes\n",
        "\n",
        "        # Create memeplexes and shuffle each memeplex\n",
        "        memeplexes = [sorted_population[j:j+memeplex_size] for j in range(0, num_frogs, memeplex_size)]\n",
        "        for memeplex in memeplexes:\n",
        "            np.random.shuffle(memeplex)\n",
        "\n",
        "        # Update frog positions based on memeplexes\n",
        "        for j, memeplex in enumerate(memeplexes):\n",
        "            if fitness_values[i] > best_fitness:\n",
        "                for dim in range(num_dimensions):\n",
        "                    memeplex[0][dim] += np.random.uniform(-1, 1) * (best_frog[dim] - memeplex[0][dim])\n",
        "\n",
        "    # Replace the old population with the updated frogs\n",
        "    population = sorted_population\n",
        "\n",
        "    # Print the best fitness value of this iteration\n",
        "    if (iteration+1)%10==0:\n",
        "      print(f\"Iteration {iteration+1}: Best Fitness = {best_fitness:.4f}\")\n",
        "\n",
        "print(\"Optimization finished!\")\n",
        "print(\"Best Solution:\", best_frog)\n",
        "print(\"Best Fitness:\", best_fitness)\n"
      ]
    },
    {
      "cell_type": "code",
      "source": [],
      "metadata": {
        "id": "xgkmBNHNKrKt"
      },
      "execution_count": null,
      "outputs": []
    }
  ]
}