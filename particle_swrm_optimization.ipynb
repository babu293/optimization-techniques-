{
  "nbformat": 4,
  "nbformat_minor": 0,
  "metadata": {
    "colab": {
      "provenance": [],
      "authorship_tag": "ABX9TyMYk5nOTYtJh4KlJLvPKeFD",
      "include_colab_link": true
    },
    "kernelspec": {
      "name": "python3",
      "display_name": "Python 3"
    },
    "language_info": {
      "name": "python"
    }
  },
  "cells": [
    {
      "cell_type": "markdown",
      "metadata": {
        "id": "view-in-github",
        "colab_type": "text"
      },
      "source": [
        "<a href=\"https://colab.research.google.com/github/babu293/optimization-techniques-/blob/main/particle_swrm_optimization.ipynb\" target=\"_parent\"><img src=\"https://colab.research.google.com/assets/colab-badge.svg\" alt=\"Open In Colab\"/></a>"
      ]
    },
    {
      "cell_type": "code",
      "execution_count": 1,
      "metadata": {
        "id": "D9XXs8wDG-h2"
      },
      "outputs": [],
      "source": [
        "import random"
      ]
    },
    {
      "cell_type": "code",
      "source": [
        "# Objective function\n",
        "def objective_function(x):\n",
        "    return x**2"
      ],
      "metadata": {
        "id": "_2miV3J0NZTX"
      },
      "execution_count": 2,
      "outputs": []
    },
    {
      "cell_type": "code",
      "source": [
        "# Particle class\n",
        "class Particle:\n",
        "    def __init__(self, position):\n",
        "        self.position = position\n",
        "        self.velocity = random.uniform(-1, 1)\n",
        "        self.best_position = position\n",
        "        self.best_fitness = objective_function(position)"
      ],
      "metadata": {
        "id": "ZKRpdfjnNdU2"
      },
      "execution_count": 3,
      "outputs": []
    },
    {
      "cell_type": "code",
      "source": [
        "def particle_swarm_optimization(num_particles, max_iterations):\n",
        "    particles = [Particle(random.uniform(-5, 5)) for _ in range(num_particles)]\n",
        "    swarm_best_position = particles[0].position\n",
        "    swarm_best_fitness = particles[0].best_fitness\n",
        "\n",
        "    for _ in range(max_iterations):\n",
        "        for particle in particles:\n",
        "            # Update velocity\n",
        "            inertia_weight = 0.5\n",
        "            cognitive_weight = 1.5\n",
        "            social_weight = 1.5\n",
        "            particle.velocity = (inertia_weight * particle.velocity) + \\\n",
        "                               (cognitive_weight * random.random() * (particle.best_position - particle.position)) + \\\n",
        "                               (social_weight * random.random() * (swarm_best_position - particle.position))\n",
        "\n",
        "            # Update position\n",
        "            particle.position += particle.velocity\n",
        "\n",
        "            # Update personal best\n",
        "            fitness = objective_function(particle.position)\n",
        "            if fitness < particle.best_fitness:\n",
        "                particle.best_fitness = fitness\n",
        "                particle.best_position = particle.position\n",
        "\n",
        "            # Update swarm best\n",
        "            if fitness < swarm_best_fitness:\n",
        "                swarm_best_fitness = fitness\n",
        "                swarm_best_position = particle.position\n",
        "\n",
        "    return swarm_best_position, swarm_best_fitness"
      ],
      "metadata": {
        "id": "ip1HkBqfNiNu"
      },
      "execution_count": 4,
      "outputs": []
    },
    {
      "cell_type": "code",
      "source": [
        "if __name__ == \"__main__\":\n",
        "    num_particles = 20\n",
        "    max_iterations = 100\n",
        "\n",
        "    best_position, best_fitness = particle_swarm_optimization(num_particles, max_iterations)\n",
        "\n",
        "    print(\"Best position:\", best_position)\n",
        "    print(\"Best fitness:\", best_fitness)"
      ],
      "metadata": {
        "colab": {
          "base_uri": "https://localhost:8080/"
        },
        "id": "aFRO15xHNn7-",
        "outputId": "f909011b-3c87-40c3-9531-101fa3aa389a"
      },
      "execution_count": 5,
      "outputs": [
        {
          "output_type": "stream",
          "name": "stdout",
          "text": [
            "Best position: -1.1061621227761597e-14\n",
            "Best fitness: 1.2235946418646598e-28\n"
          ]
        }
      ]
    },
    {
      "cell_type": "code",
      "source": [],
      "metadata": {
        "id": "HjlgcgknOMb-"
      },
      "execution_count": null,
      "outputs": []
    }
  ]
}